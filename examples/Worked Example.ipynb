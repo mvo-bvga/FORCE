{
 "cells": [
  {
   "cell_type": "code",
   "execution_count": 1,
   "id": "15d79a2f-4c15-4eda-a6c9-75b70138dbb5",
   "metadata": {},
   "outputs": [],
   "source": [
    "import os\n",
    "import numpy as np\n",
    "import pandas as pd\n",
    "from FORCE.learning import Regression\n",
    "from FORCE.utils import plot_learning_forecast"
   ]
  },
  {
   "cell_type": "code",
   "execution_count": 2,
   "id": "168bac42-26d2-4cbb-9512-c056d8a08ed8",
   "metadata": {},
   "outputs": [],
   "source": [
    "# 4C Project Database (Paid subscription - Please don't commit data to repository)\n",
    "fp = os.path.join(os.getcwd(), \"data\", \"4C Offshore Wind Farm Database.csv\")\n",
    "projects = pd.read_csv(fp, header=2) #, encoding=\"ISO-8859-1\")"
   ]
  },
  {
   "cell_type": "code",
   "execution_count": 3,
   "id": "104c55a3-63a3-47ea-8b24-b77c01e4fa14",
   "metadata": {},
   "outputs": [],
   "source": [
    "required_column_names = {\"FullyCommissioned\" : \"Full Commissioning\",\n",
    "                         \"CapacityMax_MW\" : \"Capacity MW (Max)\",\n",
    "                         \"CAPEX_Mill\" : \"Project Cost Mill\",\n",
    "                         \"CAPEXCurrency\" : \"Project Cost Currency\",\n",
    "                         \"Country \" : 'Country Name',\n",
    "                         'WaterDepthMax_M' : 'Water Depth Max (m)', \n",
    "                         'TurbineCapacityMax_MW' : 'Turbine MW (Max)',  \n",
    "                         'DistancetoShoreComputed_KM' : 'Distance From Shore Auto (km)',\n",
    "                         'FinancialClose' : 'Financial Close',\n",
    "                         'WindFarmStatus': 'Windfarm Status',\n",
    "                         \n",
    "                        }\n",
    "projects.rename(inplace=True, columns=required_column_names)"
   ]
  },
  {
   "cell_type": "code",
   "execution_count": 4,
   "id": "02e82cad-e78e-4df4-a1a8-fb1aa2213c25",
   "metadata": {},
   "outputs": [],
   "source": [
    "filters = {\n",
    "   'Capacity MW (Max)': (149, ),\n",
    "   'Full Commissioning': (2014, 2021),\n",
    "   'CAPEX_per_kw': (800, 8000.0)\n",
    "}\n",
    "\n",
    "to_aggregate = {\n",
    "    'United Kingdom': 'United Kingdom',\n",
    "    'Germany': 'Germany',\n",
    "    'Netherlands': 'Netherlands',\n",
    "    'Belgium' : 'Belgium',\n",
    "    'China': 'China',\n",
    "}"
   ]
  },
  {
   "cell_type": "code",
   "execution_count": 5,
   "id": "b228b910-f3e1-45f3-8527-91036544e775",
   "metadata": {},
   "outputs": [
    {
     "name": "stderr",
     "output_type": "stream",
     "text": [
      "C:\\Users\\mvo\\Documents\\Code\\FORCE\\FORCE\\learning.py:187: FutureWarning: The default value of numeric_only in DataFrameGroupBy.sum is deprecated. In a future version, numeric_only will default to False. Either specify numeric_only or select only columns which should be valid for the function.\n",
      "  yearly = ret.groupby([\"Full Commissioning\"]).sum()[\"Capacity MW (Max)\"]\n",
      "C:\\Users\\mvo\\Documents\\Code\\FORCE\\FORCE\\learning.py:307: FutureWarning: iteritems is deprecated and will be removed in a future version. Use .items instead.\n",
      "  for name, data in df.iteritems():\n"
     ]
    }
   ],
   "source": [
    "regression = Regression(\n",
    "    projects,\n",
    "    y_var=\"log CAPEX_per_kw\",\n",
    "    filters=filters,\n",
    "    regression_variables=['Country Name', 'Water Depth Max (m)', 'Turbine MW (Max)',  'Capacity MW (Max)', 'Distance From Shore Auto (km)'],\n",
    "    aggregate_countries=to_aggregate,\n",
    "    drop_categorical=[\"United Kingdom\"],\n",
    "#     drop_country=[\"China\"],\n",
    "    log_vars=['Cumulative Capacity', 'CAPEX_per_kw']\n",
    ")"
   ]
  }
 ],
 "metadata": {
  "kernelspec": {
   "display_name": "Python 3 (ipykernel)",
   "language": "python",
   "name": "python3"
  },
  "language_info": {
   "codemirror_mode": {
    "name": "ipython",
    "version": 3
   },
   "file_extension": ".py",
   "mimetype": "text/x-python",
   "name": "python",
   "nbconvert_exporter": "python",
   "pygments_lexer": "ipython3",
   "version": "3.11.3"
  }
 },
 "nbformat": 4,
 "nbformat_minor": 5
}
