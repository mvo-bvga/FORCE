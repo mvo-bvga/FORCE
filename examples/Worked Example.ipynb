{
 "cells": [
  {
   "cell_type": "code",
   "execution_count": 1,
   "id": "15d79a2f-4c15-4eda-a6c9-75b70138dbb5",
   "metadata": {},
   "outputs": [],
   "source": [
    "import os\n",
    "import numpy as np\n",
    "import pandas as pd\n",
    "from FORCE.learning import Regression\n",
    "from FORCE.utils import plot_learning_forecast"
   ]
  },
  {
   "cell_type": "code",
   "execution_count": 8,
   "id": "168bac42-26d2-4cbb-9512-c056d8a08ed8",
   "metadata": {},
   "outputs": [],
   "source": [
    "# 4C Project Database (Paid subscription - Please don't commit data to repository)\n",
    "fp = os.path.join(os.getcwd(), \"data\", \"4C Offshore Wind Farm Database.csv\")\n",
    "projects = pd.read_csv(fp, header=2) #, encoding=\"ISO-8859-1\")"
   ]
  },
  {
   "cell_type": "code",
   "execution_count": 9,
   "id": "3a6e2c16-46f5-4d5d-b3eb-0c1004b77c90",
   "metadata": {},
   "outputs": [
    {
     "data": {
      "text/plain": [
       "Index(['WindFarmID', 'WindFarmName', 'OtherNames', 'Country ',\n",
       "       'WindFarmStatus', 'RoundOrMechanism', 'Georegion', 'Region',\n",
       "       'OtherGenerationConcepts', 'WindFarmComments', 'Website',\n",
       "       'MostRecentEvent', 'ParkConstructionStart', 'OffshoreConstructionStart',\n",
       "       'SiteExclusivitySecured', 'ConsentApplicationSubmitted',\n",
       "       'ConsentAuthorised', 'FinancialClose', 'FirstPower',\n",
       "       'FullyCommissioned', 'AnalystOffshoreStartYear', 'CapacityModelled_MW',\n",
       "       'AnalystConfidence', 'AnalystComments', 'Owner', 'Developers',\n",
       "       'Operator', 'CapacityMax_MW', 'CapacityMin_MW', 'PowerDensity_MWperKM2',\n",
       "       'TurbineModelandOEM', 'IsLocationEstimated', 'TurbineOEM',\n",
       "       'TurbineModel', 'TurbineComments', 'TurbineCapacityMin_MW',\n",
       "       'TurbineCapacityMax_MW', 'MinNumTurbines', 'MaxNumTurbines',\n",
       "       'TotalTurbineHeight_M', 'HubHeight_M', 'RotorDiameter_M',\n",
       "       'FoundationType', 'FoundationDetails', 'FoundationComments', 'CAPEX',\n",
       "       'CAPEX_Mill', 'CAPEXCurrency', 'CAPEXComments', 'CAPEXDate',\n",
       "       'CAPEXSource', 'RevenueMechanism', 'RevenueDetails', 'RevenueCurrency',\n",
       "       'Revenue_perMWh', 'Revenue_EURperMWh', 'WaterDepthMin_M',\n",
       "       'WaterDepthMax_M', 'WaterDepthReportedMin_M', 'WaterDepthReportedMax_M',\n",
       "       'DistancetoShoreReported_KM', 'DistancetoShoreComputed_KM',\n",
       "       'WindSpeed100m_MperS', 'WindSpeed150m_MperS', 'Area_KM2', 'Latitude',\n",
       "       'Longitude', 'SeaName', 'IsLocationEstimated.1', 'InstallationPort',\n",
       "       'OandMPort', 'DedicatedPlatforms_Num', 'SharedPlatformType',\n",
       "       'GridConnectionPoint', 'LandingPoint', 'ACCables_Num',\n",
       "       'ACCableAverageLength_KM', 'ACAdditionalCable_KM',\n",
       "       'ACNominalVoltage_KV', 'DCCable_Num', 'DCCableAverageLength_KM',\n",
       "       'DCAdditionalCable_KM', 'DCNominalVoltage_KV', 'ExportCableComments',\n",
       "       'ArrayCableLength_KM', 'Nominal Voltage (kV) Array',\n",
       "       'ArrayCableComments', 'OnshoreCables_Num',\n",
       "       'OnshoreCableAverageLength_KM', 'OnshoreCableComments',\n",
       "       'ExpectedLifeYears'],\n",
       "      dtype='object')"
      ]
     },
     "execution_count": 9,
     "metadata": {},
     "output_type": "execute_result"
    }
   ],
   "source": [
    "projects.columns"
   ]
  },
  {
   "cell_type": "code",
   "execution_count": 6,
   "id": "104c55a3-63a3-47ea-8b24-b77c01e4fa14",
   "metadata": {},
   "outputs": [
    {
     "data": {
      "text/html": [
       "<div>\n",
       "<style scoped>\n",
       "    .dataframe tbody tr th:only-of-type {\n",
       "        vertical-align: middle;\n",
       "    }\n",
       "\n",
       "    .dataframe tbody tr th {\n",
       "        vertical-align: top;\n",
       "    }\n",
       "\n",
       "    .dataframe thead th {\n",
       "        text-align: right;\n",
       "    }\n",
       "</style>\n",
       "<table border=\"1\" class=\"dataframe\">\n",
       "  <thead>\n",
       "    <tr style=\"text-align: right;\">\n",
       "      <th></th>\n",
       "      <th>WindFarmName</th>\n",
       "      <th>CapacityMax_MW</th>\n",
       "    </tr>\n",
       "  </thead>\n",
       "  <tbody>\n",
       "    <tr>\n",
       "      <th>0</th>\n",
       "      <td>Durrazzo</td>\n",
       "      <td>539.0</td>\n",
       "    </tr>\n",
       "    <tr>\n",
       "      <th>1</th>\n",
       "      <td>Global Renewable Solutions - Power Platform</td>\n",
       "      <td>7.0</td>\n",
       "    </tr>\n",
       "    <tr>\n",
       "      <th>2</th>\n",
       "      <td>Star of the South</td>\n",
       "      <td>2200.0</td>\n",
       "    </tr>\n",
       "    <tr>\n",
       "      <th>3</th>\n",
       "      <td>Mid West</td>\n",
       "      <td>1100.0</td>\n",
       "    </tr>\n",
       "    <tr>\n",
       "      <th>4</th>\n",
       "      <td>The Myalup Offshore</td>\n",
       "      <td>300.0</td>\n",
       "    </tr>\n",
       "    <tr>\n",
       "      <th>...</th>\n",
       "      <td>...</td>\n",
       "      <td>...</td>\n",
       "    </tr>\n",
       "    <tr>\n",
       "      <th>3167</th>\n",
       "      <td>V1-7 - Đông thành 1 - Thái Hòa (intertidal)</td>\n",
       "      <td>80.0</td>\n",
       "    </tr>\n",
       "    <tr>\n",
       "      <th>3168</th>\n",
       "      <td>Ben Tre 5 Thanh Hai 3+4(intertidal)</td>\n",
       "      <td>63.0</td>\n",
       "    </tr>\n",
       "    <tr>\n",
       "      <th>3169</th>\n",
       "      <td>Con Co Island</td>\n",
       "      <td>1000.0</td>\n",
       "    </tr>\n",
       "    <tr>\n",
       "      <th>3170</th>\n",
       "      <td>GenesisHexicon</td>\n",
       "      <td>800.0</td>\n",
       "    </tr>\n",
       "    <tr>\n",
       "      <th>3171</th>\n",
       "      <td></td>\n",
       "      <td>NaN</td>\n",
       "    </tr>\n",
       "  </tbody>\n",
       "</table>\n",
       "<p>3172 rows × 2 columns</p>\n",
       "</div>"
      ],
      "text/plain": [
       "                                     WindFarmName  CapacityMax_MW\n",
       "0                                        Durrazzo           539.0\n",
       "1     Global Renewable Solutions - Power Platform             7.0\n",
       "2                               Star of the South          2200.0\n",
       "3                                        Mid West          1100.0\n",
       "4                             The Myalup Offshore           300.0\n",
       "...                                           ...             ...\n",
       "3167  V1-7 - Đông thành 1 - Thái Hòa (intertidal)            80.0\n",
       "3168          Ben Tre 5 Thanh Hai 3+4(intertidal)            63.0\n",
       "3169                                Con Co Island          1000.0\n",
       "3170                               GenesisHexicon           800.0\n",
       "3171                                                          NaN\n",
       "\n",
       "[3172 rows x 2 columns]"
      ]
     },
     "execution_count": 6,
     "metadata": {},
     "output_type": "execute_result"
    }
   ],
   "source": []
  }
 ],
 "metadata": {
  "kernelspec": {
   "display_name": "Python 3 (ipykernel)",
   "language": "python",
   "name": "python3"
  },
  "language_info": {
   "codemirror_mode": {
    "name": "ipython",
    "version": 3
   },
   "file_extension": ".py",
   "mimetype": "text/x-python",
   "name": "python",
   "nbconvert_exporter": "python",
   "pygments_lexer": "ipython3",
   "version": "3.11.3"
  }
 },
 "nbformat": 4,
 "nbformat_minor": 5
}
